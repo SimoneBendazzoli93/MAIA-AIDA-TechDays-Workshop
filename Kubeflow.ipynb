{
 "cells": [
  {
   "cell_type": "markdown",
   "id": "43061f64",
   "metadata": {},
   "source": [
    "# Kubeflow Pipelines\n",
    "\n",
    "To create a Kubeflow pipeline, you need to define the pipeline components, which are the building blocks of your workflow. Each component is a containerized application that performs a specific task, such as data preprocessing, model training, or evaluation. You can use the Kubeflow Pipelines SDK to define and deploy your pipeline components.\n",
    "\n",
    "You will also need to connect your KubeFlow Pipeline client to the Kubeflow Pipelines API server. This can be done by creating a KfpClient instance and providing the necessary authentication information, such as a bearer token or a Kubernetes service account token."
   ]
  },
  {
   "cell_type": "code",
   "execution_count": null,
   "id": "f03f17ae",
   "metadata": {},
   "outputs": [],
   "source": [
    "import os\n",
    "os.environ[\"KF_PIPELINES_SA_TOKEN_PATH\"] = \"/var/run/secrets/kubeflow/pipelines/token\""
   ]
  },
  {
   "cell_type": "code",
   "execution_count": null,
   "id": "fb73fe1a",
   "metadata": {},
   "outputs": [],
   "source": [
    "import kfp\n",
    "\n",
    "kfp_client = kfp.Client()"
   ]
  },
  {
   "cell_type": "code",
   "execution_count": null,
   "id": "1ef00431",
   "metadata": {},
   "outputs": [],
   "source": [
    "namespace = \"aida-workshop\""
   ]
  },
  {
   "cell_type": "code",
   "execution_count": null,
   "id": "772cfc30",
   "metadata": {},
   "outputs": [],
   "source": [
    "print(kfp_client.list_experiments(namespace=namespace))"
   ]
  },
  {
   "cell_type": "markdown",
   "id": "591c6070",
   "metadata": {},
   "source": [
    "## Download Spleen Decathlon Dataset\n",
    "\n",
    "This cell executes the KubeFlow Pipeline to download the Spleen Decathlon dataset in the `/home/maia-user/shared` folder.\n",
    "\n",
    "Other Decathlon tasks available are:\n",
    "- Task01_BrainTumor\n",
    "- Task02_Heart\n",
    "- Task03_Liver\n",
    "- Task04_Hippocampus\n",
    "- Task05_Prostate\n",
    "- Task06_Lung\n",
    "- Task07_Pancreas\n",
    "- Task08_HepaticVessel\n",
    "- Task09_Spleen\n",
    "- Task10_Colon\n",
    "\n",
    "Check at [Decathlon Challenge Dataset](http://medicaldecathlon.com/) for more details about the single tasks."
   ]
  },
  {
   "cell_type": "code",
   "execution_count": null,
   "id": "86092599",
   "metadata": {},
   "outputs": [],
   "source": [
    "kfp_client.create_run_from_pipeline_package('KubeFlow/Pipelines/Decathlon_Dataset_pipeline.yaml', namespace=\"aida-workshop\",\n",
    "                                            arguments={\"decathlon_task\":\"Task09_Spleen\"}\n",
    "                                           )"
   ]
  },
  {
   "cell_type": "markdown",
   "id": "a6e2e7be",
   "metadata": {},
   "source": [
    "## Convert NIFTI to DICOM"
   ]
  },
  {
   "cell_type": "code",
   "execution_count": null,
   "id": "1170e932",
   "metadata": {},
   "outputs": [],
   "source": [
    "name_id = \"spleen_16\"\n",
    "root_folder = \"/home/maia-user/shared/Task09_Spleen\"\n",
    "\n",
    "modality = \"CT\"\n",
    "study_description = \"Spleen CT Study\"\n",
    "series_number = \"301\""
   ]
  },
  {
   "cell_type": "code",
   "execution_count": null,
   "id": "13aca984",
   "metadata": {},
   "outputs": [],
   "source": [
    "import SimpleITK as sitk\n",
    "import os\n",
    "from pydicom.uid import generate_uid\n",
    "\n",
    "\n",
    "\n",
    "# --- Input/Output ---\n",
    "input_nifti = f\"{root_folder}/imagesTr/{name_id}.nii.gz\"\n",
    "output_dir = f\"{root_folder}/DICOM/{name_id}\"\n",
    "os.makedirs(output_dir, exist_ok=True)\n",
    "\n",
    "# --- Read NIfTI ---\n",
    "image = sitk.ReadImage(input_nifti)\n",
    "# --- Spacing, direction, origin ---\n",
    "spacing = image.GetSpacing()       # (x, y, z)\n",
    "direction = image.GetDirection()   # 3x3 matrix as flat tuple\n",
    "origin = image.GetOrigin()         # (x0, y0, z0)\n",
    "\n",
    "# Convert direction cosines into orientation string\n",
    "# DICOM wants a 6-value vector: first row + second row of the rotation matrix\n",
    "orientation = [\n",
    "    direction[0], direction[3], direction[6],  # row 1\n",
    "    direction[1], direction[4], direction[7]   # row 2\n",
    "]\n",
    "\n",
    "# --- Writer ---\n",
    "writer = sitk.ImageFileWriter()\n",
    "writer.KeepOriginalImageUIDOn()\n",
    "\n",
    "# --- Study/Series UIDs ---\n",
    "study_uid = generate_uid()\n",
    "series_uid = generate_uid()\n",
    "\n",
    "# --- Custom metadata ---\n",
    "series_tag_values = [\n",
    "    (\"0008|0060\", modality),            # Modality\n",
    "    (\"0010|0010\", name_id),      # PatientName\n",
    "    (\"0010|0020\", name_id),        # PatientID\n",
    "    (\"0020|000D\", study_uid),       # StudyInstanceUID\n",
    "    (\"0020|000E\", series_uid),      # SeriesInstanceUID\n",
    "    (\"0008|1030\", study_description),        # StudyDescription\n",
    "    (\"0008|103E\", modality),  # SeriesDescription\n",
    "]\n",
    "\n",
    "# --- Write slice by slice ---\n",
    "size = image.GetSize()\n",
    "for i in range(size[2]):  # Loop over slices in Z\n",
    "    slice_i = image[:, :, i]\n",
    "    slice_i = sitk.Cast(slice_i, sitk.sitkInt16)\n",
    "    # Compute ImagePositionPatient (origin + offset)\n",
    "    position = [\n",
    "        origin[0] + i * spacing[2] * direction[6],\n",
    "        origin[1] + i * spacing[2] * direction[7],\n",
    "        origin[2] + i * spacing[2] * direction[8],\n",
    "    ]\n",
    "\n",
    "    # Attach metadata\n",
    "    for tag, value in series_tag_values:\n",
    "        slice_i.SetMetaData(tag, value)\n",
    "\n",
    "    # Geometry\n",
    "    slice_i.SetMetaData(\"0028|0030\", f\"{spacing[0]}\\\\{spacing[1]}\")  # PixelSpacing\n",
    "    slice_i.SetMetaData(\"0020|0013\", f\"{i+1}\")  # InstanceNumber\n",
    "    slice_i.SetMetaData(\"0020|0011\", series_number)  # SeriesNumber\n",
    "    slice_i.SetMetaData(\"0018|0050\", str(spacing[2]))                # SliceThickness\n",
    "    slice_i.SetMetaData(\"0020|0032\", \"\\\\\".join(map(str, position)))  # ImagePositionPatient\n",
    "    slice_i.SetMetaData(\"0020|0037\", \"\\\\\".join(map(str, orientation)))  # ImageOrientationPatient\n",
    "\n",
    "    # Unique SOP Instance UID per slice\n",
    "\n",
    "    slice_i.SetMetaData(\"0008|0018\", str(generate_uid()))\n",
    "    # Save file\n",
    "    writer.SetFileName(os.path.join(output_dir, f\"slice_{i:03d}.dcm\"))\n",
    "    writer.Execute(slice_i)\n",
    "\n",
    "print(f\"DICOM series written to {output_dir}\")"
   ]
  },
  {
   "cell_type": "code",
   "execution_count": null,
   "id": "f07cc7bb",
   "metadata": {},
   "outputs": [],
   "source": [
    "%%bash\n",
    "\n",
    "pip install dcmqi"
   ]
  },
  {
   "cell_type": "code",
   "execution_count": null,
   "id": "9f1565c7",
   "metadata": {},
   "outputs": [],
   "source": [
    "%%writefile /home/maia-user/shared/metadata_dcmqi.json\n",
    "{\n",
    "  \"@schema\": \"https://raw.githubusercontent.com/qiicr/dcmqi/master/doc/schemas/seg-schema.json#\",\n",
    "\n",
    "  \"ContentCreatorName\": \"Doe^John\",\n",
    "  \"ClinicalTrialSeriesID\": \"Session1\",\n",
    "  \"ClinicalTrialTimePointID\": \"1\",\n",
    "  \"ClinicalTrialCoordinatingCenterName\": \"BWH\",\n",
    "  \"SeriesDescription\": \"Segmentation\",\n",
    "  \"SeriesNumber\": \"300\",\n",
    "  \"InstanceNumber\": \"1\",\n",
    "\n",
    "  \"segmentAttributes\": [\n",
    "    [\n",
    "      {\n",
    "        \"labelID\": 1,\n",
    "        \"SegmentDescription\": \"Spleen Segmentation\",\n",
    "        \"SegmentLabel\": \"Spleen\",\n",
    "        \"SegmentedPropertyCategoryCodeSequence\": {\n",
    "          \"CodeValue\": \"85756007\",\n",
    "          \"CodingSchemeDesignator\": \"SCT\",\n",
    "          \"CodeMeaning\": \"Tissue\"\n",
    "        },\n",
    "        \"SegmentedPropertyTypeCodeSequence\": {\n",
    "          \"CodeValue\": \"10200004\",\n",
    "          \"CodingSchemeDesignator\": \"SCT\",\n",
    "          \"CodeMeaning\": \"Spleen\"\n",
    "        },\n",
    "        \"SegmentAlgorithmType\": \"SEMIAUTOMATIC\",\n",
    "        \"SegmentAlgorithmName\": \"SlicerEditor\",\n",
    "        \"recommendedDisplayRGBValue\": [\n",
    "          255, 0, 0\n",
    "        ],\n",
    "        \"TrackingIdentifier\": \"Spleen\",\n",
    "        \"TrackingUniqueIdentifier\": \"1.2.3\"\n",
    "      }\n",
    "    ]\n",
    "  ]\n",
    "}\n",
    "\n"
   ]
  },
  {
   "cell_type": "code",
   "execution_count": null,
   "id": "46c30a37",
   "metadata": {},
   "outputs": [],
   "source": [
    "%%bash\n",
    "\n",
    "\n",
    "export spleen_id=\"spleen_16\"\n",
    "\n",
    "/home/maia-user/.local/bin/itkimage2segimage \\\n",
    "  --inputImageList /home/maia-user/shared/Task09_Spleen/labelsTr/${spleen_id}.nii.gz \\\n",
    "  --inputDICOMDirectory /home/maia-user/shared/Task09_Spleen/DICOM/${spleen_id} \\\n",
    "  --outputDICOM /home/maia-user/shared/Task09_Spleen/DICOM/${spleen_id}/seg.dcm \\\n",
    "  --inputMetadata /home/maia-user/shared/metadata_dcmqi.json\n"
   ]
  },
  {
   "cell_type": "code",
   "execution_count": null,
   "id": "52537307-c152-4d64-8f9b-67fb7f7beacf",
   "metadata": {},
   "outputs": [],
   "source": [
    "%%bash\n",
    "\n",
    "python -m pynetdicom storescu -r aida-workshop-orthanc-svc-orthanc 4242 /home/maia-user/shared/Task09_Spleen/DICOM/spleen_2"
   ]
  },
  {
   "cell_type": "markdown",
   "id": "e33c102e",
   "metadata": {},
   "source": [
    "## Upload DICOM Dataset to MinIO"
   ]
  },
  {
   "cell_type": "code",
   "execution_count": null,
   "id": "5ece11ca",
   "metadata": {
    "vscode": {
     "languageId": "shellscript"
    }
   },
   "outputs": [],
   "source": [
    "%%bash\n",
    "\n",
    "export PATH=$PATH:$HOME/minio-binaries/\n",
    "mc mb minio/spleen"
   ]
  },
  {
   "cell_type": "code",
   "execution_count": null,
   "id": "38e607f7",
   "metadata": {
    "vscode": {
     "languageId": "shellscript"
    }
   },
   "outputs": [],
   "source": [
    "%%bash\n",
    "cd /home/maia-user/shared/Task09_Spleen/ && zip -r Spleen_DICOM.zip DICOM/"
   ]
  },
  {
   "cell_type": "code",
   "execution_count": null,
   "id": "223d8624",
   "metadata": {
    "vscode": {
     "languageId": "shellscript"
    }
   },
   "outputs": [],
   "source": [
    "%%bash\n",
    "\n",
    "export PATH=$PATH:$HOME/minio-binaries/\n",
    "mc cp --recursive /home/maia-user/shared/Task09_Spleen/Spleen_DICOM.zip minio/spleen/"
   ]
  },
  {
   "cell_type": "markdown",
   "id": "7eeae5d0",
   "metadata": {},
   "source": [
    "## DICOM to NIFTI Pipeline"
   ]
  },
  {
   "cell_type": "code",
   "execution_count": null,
   "id": "aeee0d12",
   "metadata": {
    "vscode": {
     "languageId": "shellscript"
    }
   },
   "outputs": [],
   "source": [
    "kfp_client.create_run_from_pipeline_package('KubeFlow/Pipelines/DICOM_to_NIFTI_pipeline.yaml', namespace=\"aida-workshop\",\n",
    "                                            arguments={\"studies\":\"https://aida-workshop.maia-small.cloud.cbh.kth.se/orthanc-Zocu4r8gPAimKpAR/dicom-web\", \n",
    "                                            \"output_folder\":\"/mnt/Data/NIFTI/Task09_Spleen\"}\n",
    "                                           )"
   ]
  },
  {
   "cell_type": "markdown",
   "id": "6a7bfb31",
   "metadata": {
    "vscode": {
     "languageId": "shellscript"
    }
   },
   "source": [
    "## Create Secret for Docker Registry"
   ]
  },
  {
   "cell_type": "code",
   "execution_count": null,
   "id": "9f984dc4-8655-4dec-92e6-94da457a5fa6",
   "metadata": {},
   "outputs": [],
   "source": [
    "!pip install kubernetes git+https://github.com/kthcloud/MAIA.git git+https://github.com/globocom/argocd-client.git"
   ]
  },
  {
   "cell_type": "code",
   "execution_count": null,
   "id": "2e660d4d",
   "metadata": {
    "vscode": {
     "languageId": "shellscript"
    }
   },
   "outputs": [],
   "source": [
    "from kubernetes import config\n",
    "from kubernetes import client, config"
   ]
  },
  {
   "cell_type": "code",
   "execution_count": null,
   "id": "8a706555-e1ff-43fb-b745-e47e93c418ca",
   "metadata": {},
   "outputs": [],
   "source": [
    "from MAIA.kubernetes_utils import create_docker_registry_secret_from_context"
   ]
  },
  {
   "cell_type": "code",
   "execution_count": null,
   "id": "976e9957",
   "metadata": {
    "vscode": {
     "languageId": "shellscript"
    }
   },
   "outputs": [],
   "source": [
    "config.load_incluster_config()"
   ]
  },
  {
   "cell_type": "code",
   "execution_count": null,
   "id": "c012865f",
   "metadata": {},
   "outputs": [],
   "source": [
    "docker_credentials = {\n",
    "    \"registry\": \"https://index.docker.io/v1/\",\n",
    "    \"username\": \"maiacloud\",\n",
    "    \"password\": \"YOUR_DOCKER_HUB_PASSWORD\"\n",
    "}\n",
    "\n",
    "create_docker_registry_secret_from_context(docker_credentials, namespace=\"aida-workshop\", secret_name=\"maiacloud-dockerhub\")"
   ]
  }
 ],
 "metadata": {
  "kernelspec": {
   "display_name": "Python 3",
   "language": "python",
   "name": "python3"
  },
  "language_info": {
   "codemirror_mode": {
    "name": "ipython",
    "version": 3
   },
   "file_extension": ".py",
   "mimetype": "text/x-python",
   "name": "python",
   "nbconvert_exporter": "python",
   "pygments_lexer": "ipython3",
   "version": "3.10.12"
  }
 },
 "nbformat": 4,
 "nbformat_minor": 5
}
