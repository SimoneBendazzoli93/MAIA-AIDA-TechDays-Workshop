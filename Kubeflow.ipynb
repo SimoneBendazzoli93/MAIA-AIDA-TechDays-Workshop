{
 "cells": [
  {
   "cell_type": "markdown",
   "id": "43061f64",
   "metadata": {},
   "source": [
    "# Kubeflow Pipelines\n",
    "\n",
    "To create a Kubeflow pipeline, you need to define the pipeline components, which are the building blocks of your workflow. Each component is a containerized application that performs a specific task, such as data preprocessing, model training, or evaluation. You can use the Kubeflow Pipelines SDK to define and deploy your pipeline components.\n",
    "\n",
    "You will also need to connect your KubeFlow Pipeline client to the Kubeflow Pipelines API server. This can be done by creating a KfpClient instance and providing the necessary authentication information, such as a bearer token or a Kubernetes service account token."
   ]
  },
  {
   "cell_type": "code",
   "execution_count": null,
   "id": "f03f17ae",
   "metadata": {},
   "outputs": [],
   "source": [
    "import os\n",
    "os.environ[\"KF_PIPELINES_SA_TOKEN_PATH\"] = \"/var/run/secrets/kubeflow/pipelines/token\""
   ]
  },
  {
   "cell_type": "code",
   "execution_count": null,
   "id": "fb73fe1a",
   "metadata": {},
   "outputs": [],
   "source": [
    "import kfp\n",
    "\n",
    "kfp_client = kfp.Client(host=\"http://ml-pipeline.kubeflow.svc.cluster.local:8888\", existing_token=token)"
   ]
  },
  {
   "cell_type": "code",
   "execution_count": null,
   "id": "1ef00431",
   "metadata": {},
   "outputs": [],
   "source": [
    "namespace = \"aida-workshop\""
   ]
  },
  {
   "cell_type": "code",
   "execution_count": null,
   "id": "772cfc30",
   "metadata": {},
   "outputs": [],
   "source": [
    "print(kfp_client.list_experiments(namespace=namespace))"
   ]
  },
  {
   "cell_type": "markdown",
   "id": "591c6070",
   "metadata": {},
   "source": [
    "## Download Spleen Decathlon Dataset\n",
    "\n",
    "This cell executes the KubeFlow Pipeline to download the Spleen Decathlon dataset in the `/home/maia-user/shared` folder.\n",
    "\n",
    "Other Decathlon tasks available are:\n",
    "- Task01_BrainTumor\n",
    "- Task02_Heart\n",
    "- Task03_Liver\n",
    "- Task04_Hippocampus\n",
    "- Task05_Prostate\n",
    "- Task06_Lung\n",
    "- Task07_Pancreas\n",
    "- Task08_HepaticVessel\n",
    "- Task09_Spleen\n",
    "- Task10_Colon\n",
    "\n",
    "Check at [Decathlon Challenge Dataset](http://medicaldecathlon.com/) for more details about the single tasks."
   ]
  },
  {
   "cell_type": "code",
   "execution_count": null,
   "id": "86092599",
   "metadata": {},
   "outputs": [],
   "source": [
    "kfp_client.create_run_from_pipeline_package('KubeFlow/Pipelines/Decathlon_Dataset_pipeline.yaml', namespace=\"aida-workshop\",\n",
    "                                            arguments={\"decathlon_task\":\"Task09_Spleen\"}\n",
    "                                           )"
   ]
  },
  {
   "cell_type": "markdown",
   "id": "a6e2e7be",
   "metadata": {},
   "source": [
    "## Convert NIFTI to DICOM"
   ]
  },
  {
   "cell_type": "code",
   "execution_count": null,
   "id": "1170e932",
   "metadata": {},
   "outputs": [],
   "source": [
    "name_id = \"spleen_1\"\n",
    "root_folder = \"/home/maia-user/shared/Task09_Spleen\"\n",
    "\n",
    "modality = \"CT\"\n",
    "study_description = \"Spleen CT Study\"\n",
    "series_number = \"301\""
   ]
  },
  {
   "cell_type": "code",
   "execution_count": null,
   "id": "13aca984",
   "metadata": {},
   "outputs": [],
   "source": [
    "import SimpleITK as sitk\n",
    "import os\n",
    "from pydicom.uid import generate_uid\n",
    "\n",
    "\n",
    "\n",
    "# --- Input/Output ---\n",
    "input_nifti = f\"{root_folder}/imagesTs/{name_id}.nii.gz\"\n",
    "output_dir = f\"{root_folder}/DICOM/{name_id}\"\n",
    "os.makedirs(output_dir, exist_ok=True)\n",
    "\n",
    "# --- Read NIfTI ---\n",
    "image = sitk.ReadImage(input_nifti)\n",
    "# --- Spacing, direction, origin ---\n",
    "spacing = image.GetSpacing()       # (x, y, z)\n",
    "direction = image.GetDirection()   # 3x3 matrix as flat tuple\n",
    "origin = image.GetOrigin()         # (x0, y0, z0)\n",
    "\n",
    "# Convert direction cosines into orientation string\n",
    "# DICOM wants a 6-value vector: first row + second row of the rotation matrix\n",
    "orientation = [\n",
    "    direction[0], direction[3], direction[6],  # row 1\n",
    "    direction[1], direction[4], direction[7]   # row 2\n",
    "]\n",
    "\n",
    "# --- Writer ---\n",
    "writer = sitk.ImageFileWriter()\n",
    "writer.KeepOriginalImageUIDOn()\n",
    "\n",
    "# --- Study/Series UIDs ---\n",
    "study_uid = generate_uid()\n",
    "series_uid = generate_uid()\n",
    "\n",
    "# --- Custom metadata ---\n",
    "series_tag_values = [\n",
    "    (\"0008|0060\", modality),            # Modality\n",
    "    (\"0010|0010\", name_id),      # PatientName\n",
    "    (\"0010|0020\", name_id),        # PatientID\n",
    "    (\"0020|000D\", study_uid),       # StudyInstanceUID\n",
    "    (\"0020|000E\", series_uid),      # SeriesInstanceUID\n",
    "    (\"0008|1030\", study_description),        # StudyDescription\n",
    "    (\"0008|103E\", modality),  # SeriesDescription\n",
    "]\n",
    "\n",
    "# --- Write slice by slice ---\n",
    "size = image.GetSize()\n",
    "for i in range(size[2]):  # Loop over slices in Z\n",
    "    slice_i = image[:, :, i]\n",
    "    slice_i = sitk.Cast(slice_i, sitk.sitkInt16)\n",
    "    # Compute ImagePositionPatient (origin + offset)\n",
    "    position = [\n",
    "        origin[0] + i * spacing[2] * direction[6],\n",
    "        origin[1] + i * spacing[2] * direction[7],\n",
    "        origin[2] + i * spacing[2] * direction[8],\n",
    "    ]\n",
    "\n",
    "    # Attach metadata\n",
    "    for tag, value in series_tag_values:\n",
    "        slice_i.SetMetaData(tag, value)\n",
    "\n",
    "    # Geometry\n",
    "    slice_i.SetMetaData(\"0028|0030\", f\"{spacing[0]}\\\\{spacing[1]}\")  # PixelSpacing\n",
    "    slice_i.SetMetaData(\"0020|0013\", f\"{i+1}\")  # InstanceNumber\n",
    "    slice_i.SetMetaData(\"0020|0011\", series_number)  # SeriesNumber\n",
    "    slice_i.SetMetaData(\"0018|0050\", str(spacing[2]))                # SliceThickness\n",
    "    slice_i.SetMetaData(\"0020|0032\", \"\\\\\".join(map(str, position)))  # ImagePositionPatient\n",
    "    slice_i.SetMetaData(\"0020|0037\", \"\\\\\".join(map(str, orientation)))  # ImageOrientationPatient\n",
    "\n",
    "    # Unique SOP Instance UID per slice\n",
    "\n",
    "    slice_i.SetMetaData(\"0008|0018\", str(generate_uid()))\n",
    "    # Save file\n",
    "    writer.SetFileName(os.path.join(output_dir, f\"slice_{i:03d}.dcm\"))\n",
    "    writer.Execute(slice_i)\n",
    "\n",
    "print(f\"DICOM series written to {output_dir}\")"
   ]
  },
  {
   "cell_type": "markdown",
   "id": "e33c102e",
   "metadata": {},
   "source": [
    "## Upload DICOM Dataset to MinIO"
   ]
  },
  {
   "cell_type": "code",
   "execution_count": null,
   "id": "5ece11ca",
   "metadata": {
    "vscode": {
     "languageId": "shellscript"
    }
   },
   "outputs": [],
   "source": [
    "%%bash\n",
    "\n",
    "export PATH=$PATH:$HOME/minio-binaries/\n",
    "mc mb minio/spleen"
   ]
  },
  {
   "cell_type": "code",
   "execution_count": null,
   "id": "38e607f7",
   "metadata": {
    "vscode": {
     "languageId": "shellscript"
    }
   },
   "outputs": [],
   "source": [
    "%%bash\n",
    "cd /home/maia-user/shared/Task09_Spleen/ && zip -r Spleen_DICOM.zip DICOM/"
   ]
  },
  {
   "cell_type": "code",
   "execution_count": null,
   "id": "223d8624",
   "metadata": {
    "vscode": {
     "languageId": "shellscript"
    }
   },
   "outputs": [],
   "source": [
    "%%bash\n",
    "\n",
    "export PATH=$PATH:$HOME/minio-binaries/\n",
    "mc cp --recursive /home/maia-user/shared/Task09_Spleen/Spleen_DICOM.zip minio/spleen/"
   ]
  }
 ],
 "metadata": {
  "kernelspec": {
   "display_name": "Python 3",
   "language": "python",
   "name": "python3"
  },
  "language_info": {
   "codemirror_mode": {
    "name": "ipython",
    "version": 3
   },
   "file_extension": ".py",
   "mimetype": "text/x-python",
   "name": "python",
   "nbconvert_exporter": "python",
   "pygments_lexer": "ipython3",
   "version": "3.10.12"
  }
 },
 "nbformat": 4,
 "nbformat_minor": 5
}
