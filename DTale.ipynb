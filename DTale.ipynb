{
 "cells": [
  {
   "cell_type": "markdown",
   "id": "bfb9d73f",
   "metadata": {},
   "source": [
    "# DTale\n",
    "\n",
    "\n",
    "After completing a train run in nnUNet, the validation metrics are stored in a JSON file named `summary.json` in the validation folder. We can load the file and visualize the metrics with [DTale](https://github.com/man-group/dtale) using the following code:"
   ]
  },
  {
   "cell_type": "code",
   "execution_count": null,
   "id": "d566770a",
   "metadata": {},
   "outputs": [],
   "source": [
    "import json\n",
    "import pandas as pd\n",
    "from pathlib import Path\n",
    "\n",
    "task_name = \"Task09_Spleen\"\n",
    "task_id = \"009\"\n",
    "trainer_name = \"nnUNetTrainer\"\n",
    "plans_identifier = \"nnUNetPlans\"\n",
    "fold = 0\n",
    "configuration = \"3d_fullres\"\n",
    "summary_file = f\"/home/maia-user/shared/nnUNet/nnUNet_trained_models/Dataset{task_id}_{task_name}/nnUNetTrainer__{plans_identifier}__{configuration}/fold_{fold}/validation/summary.json\""
   ]
  },
  {
   "cell_type": "markdown",
   "id": "439903b8",
   "metadata": {},
   "source": [
    "Or, to use the MLflow artifact store to fetch the file directly from the MLflow server:"
   ]
  },
  {
   "cell_type": "code",
   "execution_count": null,
   "id": "023bfc66",
   "metadata": {},
   "outputs": [],
   "source": [
    "import mlflow\n",
    "import os\n",
    "\n",
    "mlflow.set_tracking_uri(\"https://aida-workshop.maia-small.cloud.cbh.kth.se/mlflow\")\n",
    "# Artifact URI from your example\n",
    "artifact_uri = \"\"\n",
    "\n",
    "# Local path to store the downloaded file\n",
    "local_path = mlflow.artifacts.download_artifacts(artifact_uri)\n",
    "\n",
    "print(f\"Artifact downloaded to: {local_path}\")"
   ]
  },
  {
   "cell_type": "code",
   "execution_count": null,
   "id": "cd277687",
   "metadata": {},
   "outputs": [],
   "source": [
    "summary_file = local_path"
   ]
  },
  {
   "cell_type": "code",
   "execution_count": null,
   "id": "8c90dfd6",
   "metadata": {},
   "outputs": [],
   "source": [
    "with open(summary_file) as f:\n",
    "    summary = json.load(f)"
   ]
  },
  {
   "cell_type": "code",
   "execution_count": null,
   "id": "89fe063c",
   "metadata": {},
   "outputs": [],
   "source": [
    "config_dict = {\n",
    "    \"label_dict\":{\n",
    "        \"Background\": 0,\n",
    "        \"Spleen\": 1\n",
    "    },\n",
    "    \"label_suffix\": \".nii.gz\"\n",
    "}"
   ]
  },
  {
   "cell_type": "code",
   "execution_count": null,
   "id": "e6815840",
   "metadata": {},
   "outputs": [],
   "source": [
    "df = []\n",
    "\n",
    "label_to_name = {v: k for k, v in config_dict[\"label_dict\"].items()}\n",
    "\n",
    "for case in summary['metric_per_case']:\n",
    "    for label_id in case['metrics']:\n",
    "        for metric in case['metrics'][label_id]:\n",
    "           \n",
    "            df.append({\n",
    "                \"Case\": Path(case['reference_file']).name[:-len(config_dict[\"label_suffix\"])],\n",
    "                \"Label\": label_to_name[int(label_id)],\n",
    "                \"Metric\": metric,\n",
    "                \"Value\": case['metrics'][label_id][metric]\n",
    "            })"
   ]
  },
  {
   "cell_type": "code",
   "execution_count": null,
   "id": "deef9fb3",
   "metadata": {},
   "outputs": [],
   "source": [
    "df = pd.DataFrame(df)"
   ]
  },
  {
   "cell_type": "code",
   "execution_count": null,
   "id": "fd35a9fa",
   "metadata": {},
   "outputs": [],
   "source": [
    "df.groupby([\"Metric\"]).describe()"
   ]
  },
  {
   "cell_type": "code",
   "execution_count": null,
   "id": "780eeea8",
   "metadata": {},
   "outputs": [],
   "source": [
    "import dtale\n",
    "import dtale.app as dtale_app"
   ]
  },
  {
   "cell_type": "code",
   "execution_count": null,
   "id": "00b51699",
   "metadata": {},
   "outputs": [],
   "source": [
    "dtale_app.JUPYTER_SERVER_PROXY = False\n",
    "d = dtale.show(df,host=\"0.0.0.0\",port=40000)"
   ]
  },
  {
   "cell_type": "code",
   "execution_count": null,
   "id": "9d0b9463",
   "metadata": {},
   "outputs": [],
   "source": [
    "from IPython.display import Markdown\n",
    "from IPython.core.magic import register_cell_magic\n",
    "\n",
    "\n",
    "\n",
    "DTALE_URL = d._main_url\n",
    "@register_cell_magic\n",
    "def markdown(line, cell):\n",
    "    return Markdown(cell.format(**globals()))"
   ]
  },
  {
   "cell_type": "code",
   "execution_count": null,
   "id": "7d78c44b",
   "metadata": {},
   "outputs": [],
   "source": [
    "%%markdown\n",
    "\n",
    "[DTale]({DTALE_URL})"
   ]
  },
  {
   "cell_type": "markdown",
   "id": "9510f881",
   "metadata": {},
   "source": []
  }
 ],
 "metadata": {
  "kernelspec": {
   "display_name": "Python 3",
   "language": "python",
   "name": "python3"
  },
  "language_info": {
   "codemirror_mode": {
    "name": "ipython",
    "version": 3
   },
   "file_extension": ".py",
   "mimetype": "text/x-python",
   "name": "python",
   "nbconvert_exporter": "python",
   "pygments_lexer": "ipython3",
   "version": "3.10.12"
  }
 },
 "nbformat": 4,
 "nbformat_minor": 5
}
